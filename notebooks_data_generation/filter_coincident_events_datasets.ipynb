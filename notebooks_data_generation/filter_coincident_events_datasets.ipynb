{
 "cells": [
  {
   "cell_type": "markdown",
   "id": "b29659bd",
   "metadata": {},
   "source": [
    "Import packages and setting parameters"
   ]
  },
  {
   "cell_type": "code",
   "execution_count": null,
   "id": "b7c03ea9",
   "metadata": {},
   "outputs": [],
   "source": [
    "# packages\n",
    "import numpy as np \n",
    "import matplotlib.pyplot as plt\n",
    "import pandas as pd\n",
    "import yaml, os, sys, glob, logging\n",
    "pd.set_option(\"display.max_columns\", None)\n",
    "\n",
    "from IPython.display import display, HTML\n",
    "display(HTML(\"<style>.container { width:100% !important; }</style>\"))\n",
    "\n",
    "# location of the scripts\n",
    "sys.path.insert(0, '/fefs/aswg/workspace/juan.jimenez/stereo_analysis/scripts')\n",
    "import auxiliar as aux\n",
    "import find_files as find\n",
    "aux.params() # graphic parameters\n",
    "\n",
    "# --- logging --- #\n",
    "import logging\n",
    "logger = logging.getLogger(__name__)\n",
    "logger.addHandler(logging.StreamHandler())\n",
    "logger.setLevel(logging.INFO)\n",
    "\n",
    "# --- other parameters --- #\n",
    "# name of the source we are studying\n",
    "source_name = 'Crab'\n",
    "# ------------------------ #\n",
    "\n",
    "path_merged = f'/fefs/aswg/workspace/juan.jimenez/data/dl2/stereo_merged_{source_name}/dl2_merged_{source_name}_total.3tel.h5'\n",
    "path_mean   = f'/fefs/aswg/workspace/juan.jimenez/data/dl2/stereo_mean/*{source_name}*total*.h5'\n",
    "path_lst    = f'/fefs/aswg/workspace/juan.jimenez/data/dl2/lst/dl2_lst_{source_name}.h5'\n",
    "path_magic  = f'/fefs/aswg/workspace/juan.jimenez/data/dl2/melibea/dl2_melibea_{source_name}.h5'\n",
    "\n",
    "output_path = f'/fefs/aswg/workspace/juan.jimenez/data/dl2/coincident'\n",
    "\n",
    "logger.info(f'Study of the source: {source_name}')"
   ]
  },
  {
   "cell_type": "markdown",
   "id": "be8b1ec6",
   "metadata": {},
   "source": [
    "### Reading the data\n",
    "* **total dl2**\n",
    "* **mean_3tel**\n",
    "* **Total lstchain analysis**\n",
    "* **Total melibea analysis**"
   ]
  },
  {
   "cell_type": "code",
   "execution_count": null,
   "id": "e0a3601d",
   "metadata": {},
   "outputs": [],
   "source": [
    "# reading the main files\n",
    "dir_merged = glob.glob(path_merged)[0]\n",
    "dir_mean   = glob.glob(path_mean)[0]\n",
    "dir_lst    = glob.glob(path_lst)[0]\n",
    "dir_magic  = glob.glob(path_magic)[0]\n",
    "\n",
    "df_merged =  pd.read_hdf(dir_merged, key='events/parameters')\n",
    "df_mean   =  pd.read_hdf(dir_mean,   key='events/parameters')\n",
    "df_lst    =  pd.read_hdf(dir_lst,    key='events/parameters')\n",
    "df_magic  =  pd.read_hdf(dir_magic,  key='events/parameters')\n",
    "\n",
    "logger.info(f'The merged dl2 ({sys.getsizeof(df_merged)*1e-9:.1f}Gb):')\n",
    "display(df_merged.head(5))\n",
    "logger.info(f'\\nThe mean-dl2 ({sys.getsizeof(df_mean)*1e-9:.1f}Gb):')\n",
    "display(df_mean.head(5))\n",
    "logger.info(f'\\nThe lst-dl2 ({sys.getsizeof(df_lst)*1e-9:.1f}Gb):')\n",
    "display(df_lst.head(5))\n",
    "logger.info(f'\\nThe melibea-dl2 ({sys.getsizeof(df_magic)*1e-9:.1f}Gb):')\n",
    "display(df_magic.head(5))"
   ]
  },
  {
   "cell_type": "markdown",
   "id": "1d37d3ff",
   "metadata": {},
   "source": [
    "## Now we find all the events contained in each dataset"
   ]
  },
  {
   "cell_type": "code",
   "execution_count": null,
   "id": "3dc1c405",
   "metadata": {},
   "outputs": [],
   "source": [
    "ids_merged_total = np.unique(df_merged['total_id'].to_numpy())\n",
    "ids_merged_magic = np.unique(df_merged['magic_id'].to_numpy())\n",
    "\n",
    "ids_mean = df_mean['total_id'].to_numpy()\n",
    "\n",
    "initial_n = len(ids_mean)\n",
    "logger.info(f'The total amount of events we have in which we have coincidence between all telescopes are {initial_n}.')\n",
    "\n",
    "# checking that merged and mean datasets contain the same amount of events\n",
    "if len(ids_mean) != len(ids_merged_total):\n",
    "    logger.error(f'There is different amount of data in merged and mean files:')\n",
    "    logger.error(f'Mean data   --> {len(ids_merged_total)} events')\n",
    "    logger.error(f'Merged data --> {len(ids_mean)} events')\n",
    "    sys.exit()\n",
    "\n",
    "ids_magic = df_magic['magic_id'].to_numpy()\n",
    "ids_lst   = df_lst['total_id'].to_numpy()\n",
    "\n",
    "logger.info(f'\\n\\nThe amount of events in lst-lstchain file are {len(ids_lst)}, a {len(ids_lst)/len(ids_mean)*100:.2f}% of total.')\n",
    "logger.info(f'\\nThe amount of events in magic-melibea file are {len(ids_magic)}, a {len(ids_magic)/len(ids_mean)*100:.2f}% of total.')\n",
    "\n",
    "\n",
    "# checking that all events in LST and melibea files is contained into merged and mean datasets\n",
    "common_lst_ids_check = df_lst.query(f'total_id in @ids_merged_total', inplace=False)['total_id'].to_numpy()\n",
    "if len(common_lst_ids_check) != len(ids_lst):\n",
    "    logger.error(f'There is different amount of data in lst-lstchain and mean files:')\n",
    "    logger.error(f'LST data        --> {len(ids_lst)} events')\n",
    "    logger.error(f'Common LST data --> {len(common_lst_ids_check)} events')\n",
    "    sys.exit()\n",
    "    \n",
    "common_magic_ids_check = df_magic.query(f'magic_id in @ids_merged_magic', inplace=False)['magic_id'].to_numpy()\n",
    "if len(common_magic_ids_check) != len(ids_magic):\n",
    "    logger.error(f'There is different amount of data in lst-lstchain and mean files:')\n",
    "    logger.error(f'MAGIC data        --> {len(ids_magic)} events')\n",
    "    logger.error(f'Common MAGIC data --> {len(common_magic_ids_check)} events')\n",
    "    sys.exit()"
   ]
  },
  {
   "cell_type": "markdown",
   "id": "a6803d9b",
   "metadata": {},
   "source": [
    "Now we have the lst-lstchain coincident events, so the total amount of data without melibea. Now we extract the magic id from the events in lst and look for them in the melibea file."
   ]
  },
  {
   "cell_type": "code",
   "execution_count": null,
   "id": "77565da4",
   "metadata": {},
   "outputs": [],
   "source": [
    "df_merged.query(f'magic_id in @ids_magic', inplace=True)\n",
    "df_merged.query(f'total_id in @ids_lst',   inplace=True)\n",
    "\n",
    "absolute_ids = np.unique(df_merged['total_id'].to_numpy())\n",
    "absolute_ids_magic = np.unique(df_merged['magic_id'].to_numpy())\n",
    "final_n = len(absolute_ids)\n",
    "\n",
    "logger.info(f'After the coincidence filtering the total amount of events is {final_n}, i.e. {final_n/initial_n*100:.2f}% of initial total')\n",
    "\n",
    "df_mean.query(f'total_id in @absolute_ids', inplace=True)\n",
    "df_lst.query(f'total_id in @absolute_ids', inplace=True)\n",
    "df_magic.query(f'magic_id in @absolute_ids_magic', inplace=True)\n",
    "\n",
    "logger.info(f'Checking events:\\nmerged - {int(len(df_merged)/3)}\\nmean -   {len(df_mean)}\\nlst -    {len(df_lst)}\\nmagic -  {len(df_magic)}')"
   ]
  },
  {
   "cell_type": "markdown",
   "id": "4b3a5c24",
   "metadata": {},
   "source": [
    "### Overwritting the dataframes"
   ]
  },
  {
   "cell_type": "code",
   "execution_count": null,
   "id": "30623c9f",
   "metadata": {},
   "outputs": [],
   "source": [
    "# creating the output file folder\n",
    "aux.createdir(output_path)\n",
    "\n",
    "# --- overwritting again the dataframes --- #\n",
    "logger.info('Creating .h5 files...\\n')\n",
    "df_merged.to_hdf(os.path.join(output_path, f'dl2_merged_{source_name}.h5'),  key='events/parameters')\n",
    "df_mean.to_hdf(  os.path.join(output_path, f'dl2_mean_{source_name}.h5'),    key='events/parameters')\n",
    "df_lst.to_hdf(   os.path.join(output_path, f'dl2_lst_{source_name}.h5'),     key='events/parameters')\n",
    "df_magic.to_hdf( os.path.join(output_path, f'dl2_melibea_{source_name}.h5'), key='events/parameters')"
   ]
  }
 ],
 "metadata": {
  "kernelspec": {
   "display_name": "Python 3 (ipykernel)",
   "language": "python",
   "name": "python3"
  },
  "language_info": {
   "codemirror_mode": {
    "name": "ipython",
    "version": 3
   },
   "file_extension": ".py",
   "mimetype": "text/x-python",
   "name": "python",
   "nbconvert_exporter": "python",
   "pygments_lexer": "ipython3",
   "version": "3.8.13"
  }
 },
 "nbformat": 4,
 "nbformat_minor": 5
}
