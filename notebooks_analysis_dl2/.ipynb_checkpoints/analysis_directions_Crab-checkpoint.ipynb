{
 "cells": [
  {
   "cell_type": "markdown",
   "id": "c34e2d9c",
   "metadata": {},
   "source": [
    "## Packages and definition of parameters"
   ]
  },
  {
   "cell_type": "code",
   "execution_count": 1,
   "id": "1a21d911",
   "metadata": {},
   "outputs": [
    {
     "data": {
      "text/html": [
       "<style>.container { width:100% !important; }</style>"
      ],
      "text/plain": [
       "<IPython.core.display.HTML object>"
      ]
     },
     "metadata": {},
     "output_type": "display_data"
    }
   ],
   "source": [
    "# packages\n",
    "import numpy as np \n",
    "import matplotlib.pyplot as plt\n",
    "import matplotlib.colors as colors\n",
    "import pandas as pd\n",
    "import yaml, os, sys, glob\n",
    "from mpl_toolkits.axes_grid1.inset_locator import mark_inset\n",
    "pd.set_option(\"display.max_columns\", None)\n",
    "\n",
    "from astropy.coordinates import SkyCoord\n",
    "from astropy import units as u\n",
    "from astropy.coordinates import Galactic\n",
    "from mpl_toolkits.axes_grid1 import make_axes_locatable\n",
    "from mpl_toolkits.axes_grid1.inset_locator import inset_axes\n",
    "\n",
    "from IPython.display import display, HTML\n",
    "display(HTML(\"<style>.container { width:100% !important; }</style>\"))\n",
    "\n",
    "# location of the scripts\n",
    "sys.path.insert(0, '/fefs/aswg/workspace/juan.jimenez/stereo_analysis/scripts')\n",
    "import auxiliar as aux\n",
    "import find_files as find\n",
    "aux.params() # graphic parameters\n",
    "\n",
    "\n",
    "# --- other parameters --- #\n",
    "# name of the source we are studying\n",
    "source_name = 'Crab'\n",
    "# ------------------------ #\n",
    "\n",
    "path_mc     = f'/fefs/aswg/workspace/juan.jimenez/data/dl2/mc/dl2_MC_mean_{source_name}.h5'\n",
    "path_mc_tot = f'/fefs/aswg/workspace/juan.jimenez/data/dl2/mc/dl2_MC_merged_{source_name}.h5'\n",
    "path_merged = f'/fefs/aswg/workspace/juan.jimenez/data/dl2/coincident/dl2_merged_{source_name}.h5'\n",
    "path_mean   = f'/fefs/aswg/workspace/juan.jimenez/data/dl2/coincident/dl2_mean_{source_name}.h5'\n",
    "path_lst    = f'/fefs/aswg/workspace/juan.jimenez/data/dl2/coincident/dl2_lst_{source_name}.h5'\n",
    "path_magic  = f'/fefs/aswg/workspace/juan.jimenez/data/dl2/coincident/dl2_melibea_{source_name}.h5'\n",
    "\n",
    "gammas = [0.0, 0.1, 0.5, 0.7, 0.8, 0.95]"
   ]
  },
  {
   "cell_type": "markdown",
   "id": "5700c6aa",
   "metadata": {},
   "source": [
    "## Defining the dataframes"
   ]
  },
  {
   "cell_type": "code",
   "execution_count": null,
   "id": "b7356223",
   "metadata": {},
   "outputs": [],
   "source": [
    "# reading the main files\n",
    "df_mc     =  pd.read_hdf(path_mc,     key='events/parameters')\n",
    "df_mc_tot =  pd.read_hdf(path_mc_tot, key='events/parameters')\n",
    "df_merged =  pd.read_hdf(path_merged, key='events/parameters')\n",
    "df_mean   =  pd.read_hdf(path_mean,   key='events/parameters')\n",
    "df_lst    =  pd.read_hdf(path_lst,    key='events/parameters')\n",
    "df_magic  =  pd.read_hdf(path_magic,  key='events/parameters')\n",
    "\n",
    "print(f'The MC mean dl2 ({sys.getsizeof(df_mc)*1e-9:.1f}Gb) and {len(df_mc)} events:')\n",
    "display(df_mc.head(5))\n",
    "print(f'The MC merged dl2 ({sys.getsizeof(df_mc_tot)*1e-9:.1f}Gb) and {len(df_mc_tot)} events:')\n",
    "display(df_mc_tot.head(5))\n",
    "print(f'The merged dl2 ({sys.getsizeof(df_merged)*1e-9:.1f}Gb) and {int(len(df_merged)/3)} events:')\n",
    "display(df_merged.head(5))\n",
    "print(f'The mean-dl2 ({sys.getsizeof(df_mean)*1e-9:.1f}Gb) and {len(df_mean)} events:')\n",
    "display(df_mean.head(5))\n",
    "print(f'The lst-dl2 ({sys.getsizeof(df_mean)*1e-9:.1f}Gb) and {len(df_lst)} events:')\n",
    "display(df_lst.head(5))\n",
    "print(f'The magic-dl2 ({sys.getsizeof(df_mean)*1e-9:.1f}Gb) and {len(df_magic)} events:')\n",
    "display(df_magic.head(5))\n",
    "\n",
    "ra_mean  = [df_mean.query(f'gammaness >= {g}')['reco_ra' ].to_numpy() for g in gammas]\n",
    "dec_mean = [df_mean.query(f'gammaness >= {g}')['reco_dec'].to_numpy() for g in gammas]"
   ]
  },
  {
   "cell_type": "code",
   "execution_count": null,
   "id": "32857eab",
   "metadata": {},
   "outputs": [],
   "source": [
    "df_T1 = df_merged.query('tel_id == 1', inplace=False)\n",
    "df_T2 = df_merged.query('tel_id == 2', inplace=False)\n",
    "df_T3 = df_merged.query('tel_id == 3', inplace=False)\n",
    "\n",
    "dfmc_T1 = df_mc_tot.query('tel_id == 1', inplace=False)\n",
    "dfmc_T2 = df_mc_tot.query('tel_id == 2', inplace=False)\n",
    "dfmc_T3 = df_mc_tot.query('tel_id == 3', inplace=False)"
   ]
  },
  {
   "cell_type": "markdown",
   "id": "b1865f99",
   "metadata": {},
   "source": [
    "## Image reconstrucion in camera"
   ]
  },
  {
   "cell_type": "code",
   "execution_count": null,
   "id": "b48fe0f7",
   "metadata": {},
   "outputs": [],
   "source": [
    "bins = 200\n",
    "\n",
    "fig, ((ax1,ax2),(ax3,ax4)) = plt.subplots(2, 2, figsize=(8,9), sharey='row')\n",
    "fig.suptitle('Telescope directions ($x,y$) for each telescope')\n",
    "\n",
    "\n",
    "ax1.hist2d(df_T2['x'],df_T2['y'],bins=bins, cmap='inferno')\n",
    "ax1.set_title(f'M1')\n",
    "ax1.set_ylabel('$y$ [m]')\n",
    "\n",
    "\n",
    "ax2.hist2d(df_T3['x'],df_T3['y'],bins=bins, cmap='inferno')\n",
    "ax2.set_title(f'M2')\n",
    "ax2.set_xlabel('$x$ [m]')\n",
    "\n",
    "\n",
    "ax3.hist2d(df_T1['x'],df_T1['y'],bins=bins, cmap='inferno')\n",
    "ax3.set_title(f'LST-1')\n",
    "ax3.set_xlabel('$x$ [m]')\n",
    "ax3.set_ylabel('$y$ [m]')\n",
    "\n",
    "fig.delaxes(ax4)\n",
    "\n",
    "fig.tight_layout()\n",
    "plt.show()"
   ]
  },
  {
   "cell_type": "code",
   "execution_count": null,
   "id": "5bf5e8a2",
   "metadata": {},
   "outputs": [],
   "source": [
    "bins = 200\n",
    "\n",
    "fig, ((ax1,ax2),(ax3,ax4)) = plt.subplots(2, 2, figsize=(9,9), sharey='row')\n",
    "fig.suptitle('Telescope directions ($x,y$) for each telescope')\n",
    "\n",
    "\n",
    "ax1.hist2d(dfmc_T2['x'],dfmc_T2['y'],bins=bins, cmap='inferno')\n",
    "ax1.set_title(f'M1')\n",
    "ax1.set_ylabel('$y$ [m]')\n",
    "\n",
    "\n",
    "ax2.hist2d(dfmc_T3['x'],dfmc_T3['y'],bins=bins, cmap='inferno')\n",
    "ax2.set_title(f'M2')\n",
    "ax2.set_xlabel('$x$ [m]')\n",
    "\n",
    "\n",
    "ax3.hist2d(dfmc_T1['x'],dfmc_T1['y'],bins=bins, cmap='inferno')\n",
    "ax3.set_title(f'LST-1')\n",
    "ax3.set_xlabel('$x$ [m]')\n",
    "ax3.set_ylabel('$y$ [m]')\n",
    "\n",
    "fig.delaxes(ax4)\n",
    "\n",
    "fig.tight_layout()\n",
    "plt.show()"
   ]
  },
  {
   "cell_type": "markdown",
   "id": "189d7a27",
   "metadata": {},
   "source": [
    "## Reconstructed `ra` and `dec` filtering `gammaness`"
   ]
  },
  {
   "cell_type": "code",
   "execution_count": null,
   "id": "39696c1c",
   "metadata": {
    "scrolled": false
   },
   "outputs": [],
   "source": [
    "on_coord = SkyCoord.from_name(source_name, frame='icrs')\n",
    "print(f'ON coordinate ({source_name}):\\n{on_coord}')\n",
    "\n",
    "binsx, binsy = np.linspace(79.5, 88.5,120), np.linspace( 17.5, 26.6, 120)\n",
    "\n",
    "fig, ((ax1, ax2),(ax3, ax4),(ax5, ax6)) = plt.subplots(3, 2, figsize=(8,12), sharex=True, sharey=True)\n",
    "fig.suptitle('Direction reconstruction 3-Tel')\n",
    "\n",
    "axs = [ax1, ax2, ax3, ax4, ax5, ax6]\n",
    "for i in range(len(axs)):\n",
    "    axs[i].set_title(f'$\\gamma>{gammas[i]}$')\n",
    "    axs[i].hist2d(ra_mean[i], dec_mean[i], bins=[binsx, binsy], cmap='inferno')\n",
    "    axs[i].scatter(on_coord.ra.value, on_coord.dec.value, marker='x', color='w', s=100, linewidths=1, \n",
    "                  label='Crab true position')\n",
    "    if i % 2 == 0:\n",
    "        axs[i].set_ylabel('dec')\n",
    "\n",
    "ax2.legend()\n",
    "ax5.set_xlabel('ra')\n",
    "ax6.set_xlabel('ra')\n",
    "\n",
    "fig.tight_layout()\n",
    "plt.show()"
   ]
  },
  {
   "cell_type": "markdown",
   "id": "766b5f27",
   "metadata": {},
   "source": [
    "## Crab in galactic coordinates"
   ]
  },
  {
   "cell_type": "code",
   "execution_count": null,
   "id": "061c13b4",
   "metadata": {},
   "outputs": [],
   "source": [
    "on_coord = SkyCoord.from_name(source_name, frame=Galactic)\n",
    "print(f'ON coordinate ({source_name}):\\n{on_coord}')\n",
    "\n",
    "\n",
    "c = SkyCoord(ra=ra_mean[0]*u.deg, dec=dec_mean[0]*u.deg, frame='icrs')\n",
    "c = c.galactic\n",
    "sph = c.spherical\n",
    "lon, lat = -sph.lon.wrap_at(180*u.deg).radian, sph.lat.radian\n",
    "\n",
    "Nbins = 100\n",
    "bins  = [np.linspace(-np.pi, np.pi, Nbins),   np.linspace(-np.pi/2, np.pi/2, Nbins)]\n",
    "binsH = [np.linspace(-np.pi, np.pi, Nbins+1), np.linspace(-np.pi/2, np.pi/2, Nbins+1)]\n",
    "\n",
    "img, xbins,ybins = np.histogram2d([*lon,-np.pi, np.pi], [*lat, -np.pi/2, np.pi/2], bins=binsH)\n",
    "\n",
    "fig, ax = plt.subplots(figsize=(10, 4), subplot_kw=dict(projection='aitoff'))\n",
    "\n",
    "cont = ax.contourf(*bins, img.T, levels=50, cmap='inferno')\n",
    "\n",
    "\n",
    "ax.set_xlabel('$l$')\n",
    "ax.set_ylabel('$b$')\n",
    "\n",
    "ax.scatter(2 * np.pi - on_coord.l.value * np.pi / 180, on_coord.b.value * np.pi / 180,\n",
    "           marker='x', color='w', s=100, linewidths=1, label=f'{source_name} true position')\n",
    "\n",
    "ax.tick_params(axis='x', colors='w')\n",
    "ax.grid()\n",
    "ax.legend()\n",
    "fig.tight_layout()\n",
    "ax.set_facecolor('k')\n",
    "plt.show()"
   ]
  },
  {
   "cell_type": "markdown",
   "id": "2995dd67",
   "metadata": {},
   "source": [
    "# THESIS PLOTS\n",
    "## Sky map"
   ]
  },
  {
   "cell_type": "code",
   "execution_count": null,
   "id": "3d1dceb4",
   "metadata": {},
   "outputs": [],
   "source": [
    "# creating a folder to save the plots\n",
    "pltpath = 'plots/'\n",
    "if not os.path.exists(pltpath):\n",
    "    os.makedirs(pltpath)\n",
    "dpi      = 200     # resolution of saved images\n",
    "formatIm = '.png'  # format of saved images\n",
    "\n",
    "t  = df_mean['timestamp'].to_numpy()\n",
    "dt = np.diff(t)\n",
    "obs_time = sum(dt[dt<1])"
   ]
  },
  {
   "cell_type": "code",
   "execution_count": null,
   "id": "37afab56",
   "metadata": {},
   "outputs": [],
   "source": [
    "\n",
    "#############################\n",
    "cmap = 'afmhot'\n",
    "\n",
    "# load crab image\n",
    "crab_image  = plt.imread('/fefs/aswg/workspace/juan.jimenez/data/other_results/crab_image.png')\n",
    "\n",
    "# number of bins for different zooms\n",
    "N1, N2, N3 = 400, 300, 60\n",
    "\n",
    "# bins first zoom\n",
    "xs1, ys1 = [82, 86], [20.1, 24.3]\n",
    "binsx1, binsy1 = np.linspace(*xs1, N1), np.linspace(*ys1, N1)\n",
    "binsx1_, binsy1_ = np.linspace(*xs1, N2), np.linspace(*ys1, N2)\n",
    "\n",
    "# bins second zoom\n",
    "xs2, ys2 = [83.1, 84], [21.55, 22.5]\n",
    "binsx2, binsy2 = np.linspace(*xs2, N3), np.linspace(*ys2, N3)\n",
    "\n",
    "# limits for the third zoom\n",
    "xs3, ys3 = [83.67, 83.59], [21.98, 22.05]\n",
    "\n",
    "# gammanes indexes\n",
    "g1, g2 = 2, 5\n",
    "\n",
    "#############################\n",
    "fig, (ax1, ax2) = plt.subplots(1, 2, figsize=(14, 4.8), sharey=True, gridspec_kw={'width_ratios': [1, 2.3]})\n",
    "\n",
    "# first zoom axin ------------\n",
    "axins1 = inset_axes(ax2, '100%', '100%', bbox_to_anchor=[1.25, 0, 1, 1], bbox_transform=ax2.transAxes, borderpad=0)\n",
    "axins1.set(xlim=xs2, ylim=xs2)\n",
    "mark_inset(ax2, axins1, loc1=2, loc2=3, fc='none', ec='gray', lw=2)\n",
    "# build a square\n",
    "ax2.plot([xs2[0], xs2[1], xs2[1], xs2[0], xs2[0]], [ys2[0], ys2[0], ys2[1], ys2[1], ys2[0]], lw=2, color='gray')\n",
    "# ----------------------------\n",
    "\n",
    "# second zoom axin ------------\n",
    "axins2 = inset_axes(axins1, '100%', '100%', bbox_to_anchor=[0.52, 0.52, 0.46, 0.55], bbox_transform=axins1.transAxes, borderpad=0)\n",
    "axins2.set(xlim=xs3, ylim=ys3)\n",
    "mark_inset(axins1, axins2, loc1=2, loc2=4, fc='none', ec='w', lw=2)\n",
    "# build a square\n",
    "axins1.plot([xs3[0], xs3[1], xs3[1], xs3[0], xs3[0]], [ys3[0], ys3[0], ys3[1], ys3[1], ys3[0]], lw=2, color='w')\n",
    "\n",
    "axins2.set_xticks([])\n",
    "axins2.set_yticks([])\n",
    "# ----------------------------\n",
    "\n",
    "# plot histograms\n",
    "norm = colors.Normalize(vmin=0, vmax=60)\n",
    "ax1.hist2d(ra_mean[0], dec_mean[0], bins=[binsx1, binsy1], cmap=cmap, norm=norm)\n",
    "\n",
    "ax2.hist2d(ra_mean[g1], dec_mean[g1], bins=[binsx1_, binsy1_], cmap=cmap, norm=norm)\n",
    "\n",
    "hist, _, _, im = axins1.hist2d(ra_mean[g2], dec_mean[g2], bins=[binsx2, binsy2], cmap=cmap, norm=norm)\n",
    "# fig.colorbar(im, ax=ax2, anchor=(10.0, 0.0))\n",
    "\n",
    "axins2.imshow(crab_image, extent=[*xs3, *ys3])\n",
    "\n",
    "\n",
    "divider = make_axes_locatable(ax2)\n",
    "cax = divider.new_horizontal(size='5%', pad=4.5)\n",
    "fig.add_axes(cax)\n",
    "fig.colorbar(im, cax=cax, orientation='vertical', label='Counts')\n",
    "\n",
    "# texts\n",
    "ax1.text(   85.5,  24,  f'All $\\gamma$',          ha='center', va='center', color='w', fontsize=20)\n",
    "ax2.text(   85.4,  24,  f'$\\gamma>{gammas[g1]}$', ha='center', va='center', color='w', fontsize=20)\n",
    "axins1.text(83.85, 22.43, f'$\\gamma>{gammas[g2]}$', ha='center', va='center', color='w', fontsize=20)\n",
    "\n",
    "# PSF circles\n",
    "circle1 = plt.Circle((85.7,  20.4), 0.1, fill=False, color='w', zorder=10, lw=2)\n",
    "ax1.add_patch(circle1)\n",
    "circle1 = plt.Circle((85.7,  20.4), 0.1, fill=False, color='w', zorder=10, lw=2)\n",
    "ax2.add_patch(circle1)\n",
    "circle2 = plt.Circle((83.84,  21.7), 0.1,   fill=False, color='w', zorder=10, lw=2)\n",
    "axins1.add_patch(circle2)\n",
    "ax1.text(85.2,     20.35, f'PSF', ha='center', va='center', color='w', fontsize=15)\n",
    "ax2.text(85.2,     20.35, f'PSF', ha='center', va='center', color='w', fontsize=15)\n",
    "axins1.text(83.68, 21.62, f'PSF', ha='center', va='center', color='w', fontsize=15)\n",
    "\n",
    "\n",
    "for ax in [ax1, ax2, axins1, axins2]:\n",
    "    ax.invert_xaxis()\n",
    "axins2.tick_params(color='w', labelcolor='w')\n",
    "for spine in axins2.spines.values():\n",
    "    spine.set_edgecolor('w')\n",
    "ax1.set_ylabel('DEC [deg]')\n",
    "ax1.set_xlabel('RA [deg]')\n",
    "ax2.set_xlabel('RA [deg]')\n",
    "axins1.set_xlabel('RA [deg]')\n",
    "\n",
    "fig.tight_layout()\n",
    "plt.savefig(f'{pltpath}sky-map-crab{formatIm}', bbox_inches='tight', dpi=dpi)\n",
    "plt.show()"
   ]
  },
  {
   "cell_type": "markdown",
   "id": "27d59cf6",
   "metadata": {},
   "source": [
    "## Selecting some events and runs to be analysed"
   ]
  },
  {
   "cell_type": "code",
   "execution_count": null,
   "id": "3c8c8181",
   "metadata": {},
   "outputs": [],
   "source": [
    "df_merged"
   ]
  },
  {
   "cell_type": "code",
   "execution_count": null,
   "id": "acc5141b",
   "metadata": {},
   "outputs": [],
   "source": [
    "gg = 0.9\n",
    "ee = 2\n",
    "\n",
    "df_evs = df_merged.query(f'combo_type == 3 and gammaness > {gg} and tel_id == 1 and reco_energy > {ee}')\n",
    "df_evs2 = df_merged.query(f'combo_type == 3 and gammaness > {gg} and tel_id == 2 and reco_energy > {ee}')\n",
    "df_evs3 = df_merged.query(f'combo_type == 3 and gammaness > {gg} and tel_id == 3 and reco_energy > {ee}')\n",
    "\n",
    "obs_counts = df_evs.groupby('obs_id').size().reset_index(name='count')\n",
    "obs_counts"
   ]
  },
  {
   "cell_type": "code",
   "execution_count": null,
   "id": "c4e8a00a",
   "metadata": {},
   "outputs": [],
   "source": [
    "df = df_evs.query(f'gammaness > {gg} and obs_id == {4125} and reco_energy > {ee}')\n",
    "index_array = df.index.get_level_values(1).to_numpy()\n",
    "df"
   ]
  },
  {
   "cell_type": "code",
   "execution_count": null,
   "id": "2bf630dc",
   "metadata": {
    "scrolled": false
   },
   "outputs": [],
   "source": [
    "NL, NM = 53000, 16000\n",
    "\n",
    "for mi, mr, i, e in zip( df['event_id_magic'],  df['obs_id_magic'], index_array, df['reco_energy']):\n",
    "    if i%NL < 15000:\n",
    "        print(f'{i%NL}  \\t{mr}-RUN MAGIC \\t{i//NL}-srunLST \\t{mi//NM}-srunM, \\tE={e:.2f}, \\t{i}-ev LST')"
   ]
  },
  {
   "cell_type": "code",
   "execution_count": null,
   "id": "9f7d1b7c",
   "metadata": {},
   "outputs": [],
   "source": [
    "gg = 0.70\n",
    "ee = 70\n",
    "\n",
    "df_evs = df_merged.query(f'combo_type == 3 and gammaness > {gg} and tel_id == 1 and reco_energy > {ee}')\n",
    "df_evs2 = df_merged.query(f'combo_type == 3 and gammaness > {gg} and tel_id == 2 and reco_energy > {ee}')\n",
    "df_evs3 = df_merged.query(f'combo_type == 3 and gammaness > {gg} and tel_id == 3 and reco_energy > {ee}')\n",
    "\n",
    "obs_counts = df_evs.groupby('obs_id').size().reset_index(name='count')\n",
    "obs_counts"
   ]
  },
  {
   "cell_type": "code",
   "execution_count": null,
   "id": "9ad906f0",
   "metadata": {},
   "outputs": [],
   "source": [
    "df = df_evs.query(f'gammaness > {gg} and obs_id == {7282} and reco_energy > {ee}')\n",
    "index_array = df.index.get_level_values(1).to_numpy()\n",
    "df"
   ]
  },
  {
   "cell_type": "code",
   "execution_count": null,
   "id": "5781c869",
   "metadata": {},
   "outputs": [],
   "source": [
    "NL, NM = 53000, 16000\n",
    "\n",
    "for mi, mr, i, e in zip( df['event_id_magic'],  df['obs_id_magic'], index_array, df['reco_energy']):\n",
    "    if i%NL < 15000:\n",
    "        print(f'{i%NL}  \\t{mr}-RUN MAGIC \\t{i//NL}-srunLST \\t{mi//NM}-srunM, \\tE={e:.2f}, \\t{i}-ev LST')"
   ]
  },
  {
   "cell_type": "code",
   "execution_count": null,
   "id": "36d18056",
   "metadata": {},
   "outputs": [],
   "source": []
  }
 ],
 "metadata": {
  "kernelspec": {
   "display_name": "Python 3 (ipykernel)",
   "language": "python",
   "name": "python3"
  },
  "language_info": {
   "codemirror_mode": {
    "name": "ipython",
    "version": 3
   },
   "file_extension": ".py",
   "mimetype": "text/x-python",
   "name": "python",
   "nbconvert_exporter": "python",
   "pygments_lexer": "ipython3",
   "version": "3.8.13"
  }
 },
 "nbformat": 4,
 "nbformat_minor": 5
}
