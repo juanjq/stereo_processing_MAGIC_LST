{
 "cells": [
  {
   "cell_type": "code",
   "execution_count": null,
   "id": "9c524673",
   "metadata": {},
   "outputs": [],
   "source": [
    "# packages\n",
    "import numpy             as np \n",
    "import matplotlib.pyplot as plt\n",
    "import pandas            as pd\n",
    "import yaml, os, logging, sys\n",
    "pd.set_option(\"display.max_columns\", None)\n",
    "\n",
    "from IPython.display import display, HTML\n",
    "display(HTML(\"<style>.container { width:100% !important; }</style>\"))\n",
    "\n",
    "# location of the scripts\n",
    "sys.path.insert(0, '/fefs/aswg/workspace/juan.jimenez/stereo_analysis/scripts')\n",
    "import auxiliar as aux\n",
    "\n",
    "# graphic parameters\n",
    "aux.params()"
   ]
  }
 ],
 "metadata": {
  "kernelspec": {
   "display_name": "Python 3 (ipykernel)",
   "language": "python",
   "name": "python3"
  },
  "language_info": {
   "codemirror_mode": {
    "name": "ipython",
    "version": 3
   },
   "file_extension": ".py",
   "mimetype": "text/x-python",
   "name": "python",
   "nbconvert_exporter": "python",
   "pygments_lexer": "ipython3",
   "version": "3.8.13"
  }
 },
 "nbformat": 4,
 "nbformat_minor": 5
}
