{
 "cells": [
  {
   "cell_type": "code",
   "execution_count": 2,
   "id": "3e405dbe",
   "metadata": {},
   "outputs": [],
   "source": [
    "import os\n",
    "import zipfile\n",
    "\n",
    "current_dir = os.getcwd()\n",
    "\n",
    "# Create a zip file\n",
    "zip_filename = 'files.zip'\n",
    "zip_file_path = os.path.join(current_dir, zip_filename)\n",
    "zip_file = zipfile.ZipFile(zip_file_path, 'w', zipfile.ZIP_DEFLATED)\n",
    "\n",
    "# Iterate over all files in the directory\n",
    "for file in os.listdir(current_dir):\n",
    "    # Exclude the notebook file itself\n",
    "    if file.endswith('.ipynb'):\n",
    "        continue\n",
    "    elif file.endswith('.zip'):\n",
    "        continue\n",
    "    \n",
    "    # Add the file to the zip archive\n",
    "    file_path = os.path.join(current_dir, file)\n",
    "    zip_file.write(file_path, file)\n",
    "\n",
    "# Close the zip file\n",
    "zip_file.close()"
   ]
  },
  {
   "cell_type": "code",
   "execution_count": null,
   "id": "41354437",
   "metadata": {},
   "outputs": [],
   "source": []
  }
 ],
 "metadata": {
  "kernelspec": {
   "display_name": "Python 3 (ipykernel)",
   "language": "python",
   "name": "python3"
  },
  "language_info": {
   "codemirror_mode": {
    "name": "ipython",
    "version": 3
   },
   "file_extension": ".py",
   "mimetype": "text/x-python",
   "name": "python",
   "nbconvert_exporter": "python",
   "pygments_lexer": "ipython3",
   "version": "3.8.13"
  }
 },
 "nbformat": 4,
 "nbformat_minor": 5
}
